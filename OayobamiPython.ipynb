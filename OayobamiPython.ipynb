{
 "cells": [
  {
   "cell_type": "code",
   "execution_count": null,
   "id": "5d1654f4-7deb-4f4e-a5b5-cf3b037be38c",
   "metadata": {},
   "outputs": [
    {
     "name": "stdout",
     "output_type": "stream",
     "text": [
      "How many seconds are in a hour?\n",
      "3600\n"
     ]
    }
   ],
   "source": [
    "secs = 60\n",
    "min = 60\n",
    "\n",
    "print(\"How many seconds are in a hour?\")\n",
    "seconds = secs * min\n",
    "print(seconds)"
   ]
  },
  {
   "cell_type": "code",
   "execution_count": 22,
   "id": "1ebf62ef-884b-4cf9-82b1-4f9a6f0b2ea1",
   "metadata": {},
   "outputs": [],
   "source": [
    "seconds_per_hour = seconds\n"
   ]
  },
  {
   "cell_type": "code",
   "execution_count": 25,
   "id": "a45ce04b-0eb0-40cd-ba43-628cba7d931a",
   "metadata": {},
   "outputs": [
    {
     "name": "stdout",
     "output_type": "stream",
     "text": [
      "How many seconds are in a day\n",
      "86400\n"
     ]
    }
   ],
   "source": [
    "print(\"How many seconds are in a day\")\n",
    "seconds_per_day = seconds_per_hour * 24\n",
    "print(seconds_per_day)"
   ]
  },
  {
   "cell_type": "code",
   "execution_count": 26,
   "id": "c00d9b3e-9273-48e0-a90f-12741f9f69f8",
   "metadata": {},
   "outputs": [
    {
     "name": "stdout",
     "output_type": "stream",
     "text": [
      "24.0\n"
     ]
    }
   ],
   "source": [
    "print(seconds_per_day / seconds_per_hour)"
   ]
  }
 ],
 "metadata": {
  "kernelspec": {
   "display_name": "Python 3 (ipykernel)",
   "language": "python",
   "name": "python3"
  },
  "language_info": {
   "codemirror_mode": {
    "name": "ipython",
    "version": 3
   },
   "file_extension": ".py",
   "mimetype": "text/x-python",
   "name": "python",
   "nbconvert_exporter": "python",
   "pygments_lexer": "ipython3",
   "version": "3.11.8"
  }
 },
 "nbformat": 4,
 "nbformat_minor": 5
}
